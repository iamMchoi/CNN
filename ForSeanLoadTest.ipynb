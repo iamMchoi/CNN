{
  "nbformat": 4,
  "nbformat_minor": 0,
  "metadata": {
    "colab": {
      "name": "ForSeanLoadTest.ipynb",
      "provenance": [],
      "collapsed_sections": [],
      "authorship_tag": "ABX9TyMXGSIpyWqE5MJlTPZkhFHl",
      "include_colab_link": true
    },
    "kernelspec": {
      "name": "python3",
      "display_name": "Python 3"
    },
    "language_info": {
      "name": "python"
    }
  },
  "cells": [
    {
      "cell_type": "markdown",
      "metadata": {
        "id": "view-in-github",
        "colab_type": "text"
      },
      "source": [
        "<a href=\"https://colab.research.google.com/github/iamMchoi/CNN/blob/master/ForSeanLoadTest.ipynb\" target=\"_parent\"><img src=\"https://colab.research.google.com/assets/colab-badge.svg\" alt=\"Open In Colab\"/></a>"
      ]
    },
    {
      "cell_type": "markdown",
      "metadata": {
        "id": "82EJjxOUppP8"
      },
      "source": [
        "## Mounting Google Drive"
      ]
    },
    {
      "cell_type": "code",
      "metadata": {
        "id": "tarkabjcpoUq"
      },
      "source": [
        "from google.colab import drive\n",
        "drive.mount('/content/drive/')"
      ],
      "execution_count": null,
      "outputs": []
    },
    {
      "cell_type": "code",
      "metadata": {
        "id": "tlw6Aefzp2dy"
      },
      "source": [
        "import os\n",
        "DATA_PATH = \"/content/drive/My Drive/Colab Notebooks/\"\n",
        "os.listdir(DATA_PATH)"
      ],
      "execution_count": null,
      "outputs": []
    },
    {
      "cell_type": "markdown",
      "metadata": {
        "id": "GmknrbDmod_5"
      },
      "source": [
        "## Load file"
      ]
    },
    {
      "cell_type": "code",
      "metadata": {
        "id": "mWpsdBDuoT9-"
      },
      "source": [
        "from google.colab import files\n",
        "\n",
        "file=files.upload()\n",
        "#Upload widget is only available when the cell has been executed in the current browser session. Please rerun this cell to enable. Saving photo1.jpg to photo1.jpg"
      ],
      "execution_count": null,
      "outputs": []
    },
    {
      "cell_type": "code",
      "metadata": {
        "id": "bueRIc1Go_4S"
      },
      "source": [
        "import cv2\n",
        "\n",
        "#Read image file\n",
        "for fn in file.keys():\n",
        "  print('User uploaded file \"{name}\" with length {length} bytes'.format(name=fn, length=len(file[fn])))\n",
        "  \n",
        "  #Read image file // fn is file's keys of dictionary. It is read in the for root\n",
        "  img = cv2.imread(fn,cv2.IMREAD_GRAYSCALE)  #cv2.imread(image file, parms - gray) convert to array\n",
        "  #img = cv2.imread(fn)"
      ],
      "execution_count": null,
      "outputs": []
    },
    {
      "cell_type": "code",
      "metadata": {
        "id": "Mu6q1s0RpBIP"
      },
      "source": [
        "IMG_SIZE = 100\n",
        "\n",
        "resize_img = cv2.resize(img, (IMG_SIZE, IMG_SIZE))  # resize to normalize data size\n",
        "\n",
        "#When doesn't work cv2.imshow, it is  solution\n",
        "from google.colab.patches import cv2_imshow\n",
        "\n",
        "#img = cv2.imread('KakaoTalk.jpg',0)\n",
        "#img = cv2.imread('Seojin Choi _Mrs Grenier.jpg',0)\n",
        "cv2_imshow(resize_img) #use this instead of cv2.imshow"
      ],
      "execution_count": null,
      "outputs": []
    },
    {
      "cell_type": "markdown",
      "metadata": {
        "id": "gAPfp6jXqBay"
      },
      "source": [
        "##Processing Data"
      ]
    },
    {
      "cell_type": "code",
      "metadata": {
        "id": "cXA6ysY2qrIi"
      },
      "source": [
        "import numpy as np\n",
        "\n",
        "#Inintialize x_train\n",
        "x_test = np.array(resize_img).astype('float32')/255.\n",
        "\n",
        "#reshape for fiting train format\n",
        "x_test = x_test.reshape(-1, IMG_SIZE, IMG_SIZE, 1)\n",
        "\n",
        "print(x_test.shape, x_test.dtype, x_test.ndim)\n"
      ],
      "execution_count": null,
      "outputs": []
    },
    {
      "cell_type": "markdown",
      "metadata": {
        "id": "FspM5oTcoH1C"
      },
      "source": [
        "## Load Model"
      ]
    },
    {
      "cell_type": "code",
      "metadata": {
        "id": "YE2TWQZ9oBP8"
      },
      "source": [
        "from tensorflow.keras.models import load_model\n",
        "model = load_model('model_fruit.h5')            # Model Name\n",
        "model.summary()\n",
        "\n",
        "#Or \n",
        "#import tensorflow as tf\n",
        "#model = tf.keras.models.load_model(DATA_PATH+\"256x2-CNN.model\")"
      ],
      "execution_count": null,
      "outputs": []
    },
    {
      "cell_type": "markdown",
      "metadata": {
        "id": "cVsLj972yS8p"
      },
      "source": [
        "##Prediction"
      ]
    },
    {
      "cell_type": "code",
      "metadata": {
        "id": "JMlp9HjhySo9"
      },
      "source": [
        "prediction = model.predict_classes(x_test)\n",
        "print(prediction)  # will be a list in a list.\n",
        "\n",
        "CATEGORIES = [\"Dog\", \"Cat\"]\n",
        "print(CATEGORIES[int(prediction[0][0])])"
      ],
      "execution_count": null,
      "outputs": []
    },
    {
      "cell_type": "code",
      "metadata": {
        "id": "JYu6NAMEyViY"
      },
      "source": [
        "import matplotlib.pyplot as plt\n",
        "\n",
        "plt.imshow(resize_img, cmap='gray')  # graph it\n",
        "plt.show()  # display!"
      ],
      "execution_count": null,
      "outputs": []
    }
  ]
}